{
 "cells": [
  {
   "cell_type": "markdown",
   "metadata": {},
   "source": [
    "# Two Bar Truss \n",
    "\n",
    "This is a rewrite of the two bar truss genetic optimization using a class. Much neater, easier to use and faster (rewrote a few of the functions to use vectorized numpy operations)"
   ]
  },
  {
   "cell_type": "code",
   "execution_count": 1,
   "metadata": {
    "collapsed": true
   },
   "outputs": [],
   "source": [
    "import numpy as np\n",
    "import genops as op"
   ]
  },
  {
   "cell_type": "markdown",
   "metadata": {},
   "source": [
    "### The complete class definition"
   ]
  },
  {
   "cell_type": "code",
   "execution_count": 5,
   "metadata": {
    "collapsed": false
   },
   "outputs": [],
   "source": [
    "class TwoBar:\n",
    "    def __init__(self):\n",
    "        # GA settings\n",
    "        self.numiter = 300\n",
    "        self.pop_sz = 50\n",
    "        self.ind_sz = 2\n",
    "        \n",
    "        # Two bar truss specifications\n",
    "        self.density = 0.3\n",
    "        self.modulus = 30000\n",
    "        self.load = 66\n",
    "        self.width = 60\n",
    "        self.thickness = 0.15\n",
    "        \n",
    "        # Results stored here\n",
    "        self.result = -1\n",
    "        self.height = -1\n",
    "        self.diameter = -1\n",
    "        self.weight = -1\n",
    "    \n",
    "    def run(self):\n",
    "        \"\"\" Run the ga \"\"\"\n",
    "        pop = self.generate()\n",
    "    \n",
    "        for i in range(0,self.numiter):\n",
    "            new_pop = self.tournament_select(pop)\n",
    "            pop = self.best_population(pop,new_pop)\n",
    "        self.result = pop\n",
    "        self.height = pop[0,1]*100+1\n",
    "        self.diameter = pop[0,2]*100+1\n",
    "        self.weight = pop[0,0]\n",
    "        \n",
    "    def two_bar_truss(self,density, modulus, load, width, thickness, height, diameter):\n",
    "        \"\"\" Calculate the weight, stress, buckling and deflection\"\"\"\n",
    "        length = ((width/2.0)**2.0 + height**2)**0.5\n",
    "        area = np.pi * diameter * thickness\n",
    "        iovera = (diameter**2.0 + thickness**2.0)/8.0\n",
    "        weight = 2.0 * density * length * area\n",
    "        stress = load * length/(2.0 * area * height)\n",
    "        buckling = np.pi**2.0 * modulus * iovera/(length**2.0)\n",
    "        deflection = load * length**3.0/(2.0 * modulus * area * height**2.0)\n",
    "        return(weight, stress, buckling, deflection)\n",
    "    \n",
    "    # SBX Crossover\n",
    "    def crossover(self,parent1,parent2,eta,low,up):\n",
    "        \"\"\" SBX real crossover \"\"\"\n",
    "        child1 = np.zeros(len(parent1))\n",
    "        child2 = np.zeros(len(parent2))\n",
    "        for i in range(0,len(parent1)):\n",
    "            child1[i], child2[i] = op.sbx_real(parent1[i],parent2[i],eta,low,up)\n",
    "        return child1,child2\n",
    "\n",
    "    # Real mutation\n",
    "    def mutate(self,individual, prob, eta, low, up):\n",
    "        \"\"\" Real mutation of individuals \"\"\"\n",
    "        for i in range(0,len(individual)):\n",
    "            individual[i] = op.mutate_real(individual[i],prob, eta, low, up)\n",
    "        return individual\n",
    "    \n",
    "    # Return the best individual of two selected at random\n",
    "    def get_random_best_individual(self,population):\n",
    "        sz = population.shape[0]\n",
    "        rn = np.random.randint(0,sz,2) # Generate 2 random numbers between 0 and size of population\n",
    "        t1 = population[rn[0]] # Grab random individual\n",
    "        t2 = population[rn[1]] # Grab another random individual\n",
    "        f1 = t1[0] # Grab fitness from array (fitness is first entry in array)\n",
    "        f2 = t2[0] # Grab fitness from array (fitness is first entry in array)\n",
    "        if f1 < f2:\n",
    "            return t1\n",
    "        else:\n",
    "            return t2\n",
    "\n",
    "    # Tournament selection\n",
    "    def tournament_select(self,population):\n",
    "        new_pop = np.zeros((self.pop_sz,self.ind_sz+1))\n",
    "        for i in range(0,self.pop_sz,2):\n",
    "            best1 = self.get_random_best_individual(population)\n",
    "            best2 = self.get_random_best_individual(population)\n",
    "            child1, child2 = self.crossover(best1, best2,1,0,1)\n",
    "            child1 = self.mutate(child1,0.1,1,0,1)\n",
    "            child2 = self.mutate(child2,0.1,1,0,1)\n",
    "            new_pop[i] = child1\n",
    "            new_pop[i+1] = child2\n",
    "        return new_pop\n",
    "    \n",
    "    # Add together new and old populations and grab top 50 results\n",
    "    # sorted by lowest first\n",
    "    def best_population(self,pop,new_pop):\n",
    "        final = np.vstack((pop,new_pop)) # stack both arrays\n",
    "        final[:,0] = self.fitness(final[:,1],final[:,2]) # Calculate fitness\n",
    "        final = final[np.argsort(final[:,0])] # Sort ascending\n",
    "        final = final[:self.pop_sz,:] # Grab top population\n",
    "        return final\n",
    "    \n",
    "    # Calculate fitness of population\n",
    "    def fitness(self,height,diameter):\n",
    "        w,s,b,d = self.two_bar_truss(self.density,self.modulus,self.load\n",
    "                                    ,self.width,self.thickness,height*100+1,diameter*100+1) \n",
    "        # If any value exceeds constraints weight result\n",
    "        w = np.where(s>100,w*2,w)\n",
    "        w = np.where(d>0.25,w*2,w)\n",
    "        w = np.where((s-b)>0.0,w*2,w)\n",
    "        return w\n",
    "    \n",
    "    def find_valid_individual(self):\n",
    "        for i in range(0,1000): \n",
    "            temp = np.random.rand(2)\n",
    "            w,s,b,d = self.two_bar_truss(self.density,self.modulus,self.load\n",
    "                                    ,self.width,self.thickness,(temp[0]*100)+1,(temp[1]*100)+1) \n",
    "            if s < 100.0 and d < 0.25 and s-b < 0.0:\n",
    "                return w,temp[0],temp[1] # Return fitness, height, diameter\n",
    "\n",
    "    # Generate a random population\n",
    "    def generate(self):\n",
    "        pop = np.zeros((self.pop_sz,self.ind_sz+1))\n",
    "        for i in range (0, self.pop_sz):\n",
    "            pop[i] = self.find_valid_individual()\n",
    "        return pop"
   ]
  },
  {
   "cell_type": "markdown",
   "metadata": {},
   "source": [
    "### Setup the problem"
   ]
  },
  {
   "cell_type": "code",
   "execution_count": 3,
   "metadata": {
    "collapsed": false,
    "scrolled": false
   },
   "outputs": [],
   "source": [
    "DENSITY = 0.3\n",
    "MODULUS = 30000\n",
    "LOAD = 66\n",
    "WIDTH = 60\n",
    "THICKNESS = 0.15\n",
    "\n",
    "test = TwoBar()\n",
    "#test.load=120"
   ]
  },
  {
   "cell_type": "markdown",
   "metadata": {},
   "source": [
    "### Run the optimization"
   ]
  },
  {
   "cell_type": "code",
   "execution_count": 4,
   "metadata": {
    "collapsed": false
   },
   "outputs": [
    {
     "name": "stdout",
     "output_type": "stream",
     "text": [
      "Wall time: 239 ms\n"
     ]
    }
   ],
   "source": [
    "%time test.run()"
   ]
  },
  {
   "cell_type": "markdown",
   "metadata": {},
   "source": [
    "### Print the results"
   ]
  },
  {
   "cell_type": "code",
   "execution_count": null,
   "metadata": {
    "collapsed": false
   },
   "outputs": [],
   "source": [
    "print(\"Weight: {0:.4f} Height: {1:.4f} Diameter: {2:.4f}\".format(test.weight, test.height, test.diameter))"
   ]
  }
 ],
 "metadata": {
  "anaconda-cloud": {},
  "kernelspec": {
   "display_name": "Python [conda root]",
   "language": "python",
   "name": "conda-root-py"
  },
  "language_info": {
   "codemirror_mode": {
    "name": "ipython",
    "version": 3
   },
   "file_extension": ".py",
   "mimetype": "text/x-python",
   "name": "python",
   "nbconvert_exporter": "python",
   "pygments_lexer": "ipython3",
   "version": "3.5.2"
  }
 },
 "nbformat": 4,
 "nbformat_minor": 1
}
