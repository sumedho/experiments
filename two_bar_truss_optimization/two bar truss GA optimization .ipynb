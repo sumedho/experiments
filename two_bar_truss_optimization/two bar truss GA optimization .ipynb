{
 "cells": [
  {
   "cell_type": "code",
   "execution_count": 12,
   "metadata": {
    "collapsed": true
   },
   "outputs": [],
   "source": [
    "import numpy as np\n",
    "import pandas as pd\n",
    "import genops as op\n",
    "import matplotlib.pyplot as plt\n",
    "from numba import jit\n",
    "\n",
    "%matplotlib inline"
   ]
  },
  {
   "cell_type": "markdown",
   "metadata": {},
   "source": [
    "### Two bar truss formula\n",
    "\n",
    "Calculate weight, stress, buckling and deflection for a two bar truss"
   ]
  },
  {
   "cell_type": "code",
   "execution_count": 18,
   "metadata": {
    "collapsed": true
   },
   "outputs": [],
   "source": [
    "\n",
    "def two_bar_truss(density, modulus, load, width, thickness, height, diameter):\n",
    "    length = ((width/2.0)**2.0 + height**2)**0.5\n",
    "    area = np.pi * diameter * thickness\n",
    "    iovera = (diameter**2.0 + thickness**2.0)/8.0\n",
    "    weight = 2.0 * density * length * area\n",
    "    stress = load * length/(2.0 * area * height)\n",
    "    buckling = np.pi**2.0 * modulus * iovera/(length**2.0)\n",
    "    deflection = load * length**3.0/(2.0 * modulus * area * height**2.0)\n",
    "    return(weight, stress, buckling, deflection)"
   ]
  },
  {
   "cell_type": "markdown",
   "metadata": {},
   "source": [
    "### Tournament select\n",
    "\n",
    "- Create new empty dataframe the same size as original.\n",
    "- Grab two individuals at random and select the best one based on fitness.\n",
    "- Grab two more individuals at random and select the best based on fitness.\n",
    "- Crossover and mutate these two best parents and place the two children in the new population.\n",
    "- Repeat until the new population is filled."
   ]
  },
  {
   "cell_type": "code",
   "execution_count": 3,
   "metadata": {
    "collapsed": true
   },
   "outputs": [],
   "source": [
    "# Return the best individual of two selected at random\n",
    "def get_random_best_individual(population, spec):\n",
    "    sz = population.shape[0]\n",
    "    p1 = np.random.randint(0,sz)\n",
    "    p2 = np.random.randint(0,sz)\n",
    "    t1 = population[p1]\n",
    "    t2 = population[p2]\n",
    "    f1 = fitness(t1, spec)\n",
    "    f2 = fitness(t2, spec)\n",
    "    if f1 < f2:\n",
    "        return t1\n",
    "    else:\n",
    "        return t2\n",
    "\n",
    "# Tournament selection\n",
    "def tournament_select(population, spec):\n",
    "    sz = population.shape[0] # Number of rows in population\n",
    "    ind_size = population.shape[1] # Number of columns (individuals)\n",
    "    new_pop = np.zeros((sz,ind_size))\n",
    "    for i in range(0,sz,2):\n",
    "        best1 = get_random_best_individual(population, spec)\n",
    "        best2 = get_random_best_individual(population, spec)\n",
    "        child1, child2 = crossover(best1, best2,1,0,1)\n",
    "        child1 = mutate(child1,0.1,1,0,1)\n",
    "        child2 = mutate(child2,0.1,1,0,1)\n",
    "        new_pop[i] = child1\n",
    "        new_pop[i+1] = child2\n",
    "    return new_pop\n",
    "\n",
    "# SBX Crossover\n",
    "def crossover(parent1,parent2,eta,low,up):\n",
    "    child1 = np.zeros(len(parent1))\n",
    "    child2 = np.zeros(len(parent2))\n",
    "    for i in range(0,len(parent1)):\n",
    "        child1[i], child2[i] = op.sbx_real(parent1[i],parent2[i],eta,low,up)\n",
    "    return child1,child2\n",
    "\n",
    "# Real mutation\n",
    "def mutate(individual, prob, eta, low, up):\n",
    "    for i in range(0,len(individual)):\n",
    "        individual[i] = op.mutate_real(individual[i],prob, eta, low, up)\n",
    "    return individual"
   ]
  },
  {
   "cell_type": "markdown",
   "metadata": {},
   "source": [
    "### Grab the best from old and new population\n",
    "\n",
    "Add old and new population together, sort by best fitness first and then select the top 50 individuals"
   ]
  },
  {
   "cell_type": "code",
   "execution_count": 4,
   "metadata": {
    "collapsed": true
   },
   "outputs": [],
   "source": [
    "# Add together new and old populations and grab top 50 results\n",
    "# sorted by lowest first\n",
    "def best_population(pop,new_pop, spec):\n",
    "    final = np.vstack((pop,new_pop))\n",
    "    ind_size = pop.shape[1]\n",
    "    pop_sz = pop.shape[0]\n",
    "    df = pd.DataFrame(final, columns=range(0,ind_size))\n",
    "    sz = df.shape[0]\n",
    "    ind_size = df.shape[1]\n",
    "    fit = []\n",
    "    for i in range(0,sz):\n",
    "        f = fitness(final[i], spec)\n",
    "        fit.append(f)\n",
    "    df['fit'] = fit\n",
    "    df = df.sort_values('fit',ascending=True) # Sort by lowest first\n",
    "    df = df.iloc[0:pop_sz] # Grab top 50\n",
    "    df = df.drop('fit',axis=1) # Remove fitness measure\n",
    "    return df.as_matrix()"
   ]
  },
  {
   "cell_type": "code",
   "execution_count": 5,
   "metadata": {
    "collapsed": true
   },
   "outputs": [],
   "source": [
    "# Calculate fitness of each inidividual\n",
    "def fitness(individual, spec):\n",
    "    d = decode(individual)\n",
    "    w,s,b,d = two_bar_truss(spec['density'],spec['modulus'],spec['load']\n",
    "                                ,spec['width'],spec['thickness'],d[0],d[1]) \n",
    "    #w,s,b,d = two_bar_truss(0.3,30000,66,60,0.15,d[0],d[1])\n",
    "    # If any value exceeds contraints weight result\n",
    "    if s > 100:\n",
    "        w = w * 2\n",
    "    if d > 0.25:\n",
    "        w = w * 2\n",
    "    if s-b > 0.0:\n",
    "        w = w * 2\n",
    "    return w"
   ]
  },
  {
   "cell_type": "code",
   "execution_count": 6,
   "metadata": {
    "collapsed": true
   },
   "outputs": [],
   "source": [
    "def find_valid_individual(spec):\n",
    "    for i in range(0,1000): \n",
    "        temp = np.random.rand(2)\n",
    "        w,s,b,d = two_bar_truss(spec['density'],spec['modulus'],spec['load']\n",
    "                                ,spec['width'],spec['thickness'],(temp[0]*100)+1,(temp[1]*100)+1) \n",
    "        if s < 100.0 and d < 0.25 and s-b < 0.0:\n",
    "            return temp\n",
    "\n",
    "# Generate a random population\n",
    "def generate(ind_size,pop_size, spec):\n",
    "    pop = np.zeros((pop_size,ind_size))\n",
    "    for i in range (0, pop_size):\n",
    "        pop[i] = find_valid_individual(spec)\n",
    "    return pop\n",
    "\n",
    "# Decode individuals to floating point\n",
    "# Height and diameter are converted\n",
    "def decode(individual):\n",
    "    return(individual*[100,100]+[1,1])"
   ]
  },
  {
   "cell_type": "code",
   "execution_count": 14,
   "metadata": {
    "collapsed": false,
    "scrolled": false
   },
   "outputs": [],
   "source": [
    "POP_SIZE = 50\n",
    "IND_SIZE = 2\n",
    "DENSITY = 0.3\n",
    "MODULUS = 30000\n",
    "LOAD = 66\n",
    "WIDTH = 60\n",
    "THICKNESS = 0.15\n",
    "\n",
    "specifications = {'density':DENSITY,'modulus':MODULUS,'load':LOAD,'width':WIDTH,'thickness':THICKNESS}\n",
    "\n",
    "def run():\n",
    "    pop = generate(IND_SIZE,POP_SIZE, specifications)\n",
    "\n",
    "    for i in range(0,300):\n",
    "        new_pop = tournament_select(pop, specifications)\n",
    "        pop = best_population(pop,new_pop, specifications)\n",
    "        #print fitness(pop[0])\n",
    "    \n",
    "    print i, fitness(pop[0], specifications)\n",
    "    print decode(pop[0])"
   ]
  },
  {
   "cell_type": "code",
   "execution_count": 19,
   "metadata": {
    "collapsed": false
   },
   "outputs": [
    {
     "name": "stdout",
     "output_type": "stream",
     "text": [
      "299 15.8685020886\n",
      "[ 14.22000648   1.6904863 ]\n",
      "CPU times: user 2.36 s, sys: 7.64 ms, total: 2.37 s\n",
      "Wall time: 2.36 s\n"
     ]
    }
   ],
   "source": [
    "%time run()"
   ]
  }
 ],
 "metadata": {
  "anaconda-cloud": {},
  "kernelspec": {
   "display_name": "Python [conda root]",
   "language": "python",
   "name": "conda-root-py"
  },
  "language_info": {
   "codemirror_mode": {
    "name": "ipython",
    "version": 2
   },
   "file_extension": ".py",
   "mimetype": "text/x-python",
   "name": "python",
   "nbconvert_exporter": "python",
   "pygments_lexer": "ipython2",
   "version": "2.7.12"
  }
 },
 "nbformat": 4,
 "nbformat_minor": 1
}
